{
  "cells": [
    {
      "cell_type": "markdown",
      "id": "e972719a",
      "metadata": {
        "id": "e972719a"
      },
      "source": [
        "\n",
        "# 🧬 NanoDockPredictor - Full Version (Google Colab)\n",
        "### Created by Jaafar (2025)\n",
        "\n",
        "✅ Smart Docking of Proteins and Ligands  \n",
        "✅ AutoDock Vina + OpenBabel + Gaussian Input Generator\n",
        "\n",
        "---\n",
        "\n",
        "⚠️ Notes:\n",
        "\n",
        "- This notebook is the **full version** of NanoDockPredictor.\n",
        "- It runs fully in Google Colab (free).\n",
        "- No need to install anything on your local machine.\n",
        "\n",
        "---\n",
        "\n",
        "Let's start 🚀\n"
      ]
    },
    {
      "cell_type": "code",
      "execution_count": 9,
      "id": "653bf614",
      "metadata": {
        "id": "653bf614",
        "outputId": "e3fe583c-9b55-42df-d013-2f054fb3e0c6",
        "colab": {
          "base_uri": "https://localhost:8080/"
        }
      },
      "outputs": [
        {
          "output_type": "stream",
          "name": "stdout",
          "text": [
            "Reading package lists... Done\n",
            "Building dependency tree... Done\n",
            "Reading state information... Done\n",
            "autodock-vina is already the newest version (1.2.3-2).\n",
            "0 upgraded, 0 newly installed, 0 to remove and 35 not upgraded.\n",
            "Reading package lists... Done\n",
            "Building dependency tree... Done\n",
            "Reading state information... Done\n",
            "openbabel is already the newest version (3.1.1+dfsg-6ubuntu5).\n",
            "0 upgraded, 0 newly installed, 0 to remove and 35 not upgraded.\n"
          ]
        }
      ],
      "source": [
        "\n",
        "# ✅ Install AutoDock Vina and OpenBabel\n",
        "!apt-get install -y autodock-vina\n",
        "!apt-get install -y openbabel\n",
        "!pip install -q requests\n"
      ]
    },
    {
      "cell_type": "code",
      "execution_count": 10,
      "id": "b346667f",
      "metadata": {
        "id": "b346667f"
      },
      "outputs": [],
      "source": [
        "\n",
        "# ✅ Import libraries\n",
        "import requests\n",
        "import os\n",
        "import subprocess\n",
        "import re\n",
        "import shutil\n"
      ]
    },
    {
      "cell_type": "code",
      "execution_count": 11,
      "id": "c0a99e57",
      "metadata": {
        "id": "c0a99e57"
      },
      "outputs": [],
      "source": [
        "\n",
        "# ✅ Create work directory\n",
        "work_dir = \"/content/nanoDocking_run\"\n",
        "os.makedirs(work_dir, exist_ok=True)\n"
      ]
    },
    {
      "cell_type": "code",
      "execution_count": 12,
      "id": "2df2f561",
      "metadata": {
        "id": "2df2f561"
      },
      "outputs": [],
      "source": [
        "\n",
        "# ✅ Download PDB and Ligand functions\n",
        "def download_pdb(pdb_id):\n",
        "    url = f\"https://files.rcsb.org/download/{pdb_id}.pdb\"\n",
        "    response = requests.get(url)\n",
        "    pdb_path = os.path.join(work_dir, f\"{pdb_id}.pdb\")\n",
        "    with open(pdb_path, \"w\") as f:\n",
        "        f.write(response.text)\n",
        "    return pdb_path\n",
        "\n",
        "def download_ligand(ligand_name):\n",
        "    cid_url = f\"https://pubchem.ncbi.nlm.nih.gov/rest/pug/compound/name/{ligand_name}/cids/TXT\"\n",
        "    cid_response = requests.get(cid_url)\n",
        "    cid = cid_response.text.strip()\n",
        "    sdf_url = f\"https://pubchem.ncbi.nlm.nih.gov/rest/pug/compound/cid/{cid}/SDF\"\n",
        "    sdf_response = requests.get(sdf_url)\n",
        "    sdf_path = os.path.join(work_dir, f\"{ligand_name}_{cid}.sdf\")\n",
        "    with open(sdf_path, \"w\") as f:\n",
        "        f.write(sdf_response.text)\n",
        "    pdb_path = sdf_path.replace(\".sdf\", \".pdb\")\n",
        "    subprocess.run(f\"obabel {sdf_path} -O {pdb_path} --addhydrogens\", shell=True, check=True)\n",
        "    return pdb_path\n"
      ]
    },
    {
      "cell_type": "code",
      "execution_count": 13,
      "id": "615ba9d8",
      "metadata": {
        "id": "615ba9d8",
        "outputId": "75b4ad44-da53-4c2c-c656-4bec824e5f63",
        "colab": {
          "base_uri": "https://localhost:8080/"
        }
      },
      "outputs": [
        {
          "output_type": "stream",
          "name": "stdout",
          "text": [
            "✅ Files downloaded.\n"
          ]
        }
      ],
      "source": [
        "\n",
        "# Example:\n",
        "pdb_id = \"1A3N\"  # change as needed\n",
        "ligand_name = \"Letrozole\"  # change as needed\n",
        "\n",
        "receptor_pdb = download_pdb(pdb_id)\n",
        "ligand_pdb = download_ligand(ligand_name)\n",
        "\n",
        "print(\"✅ Files downloaded.\")\n"
      ]
    },
    {
      "cell_type": "code",
      "execution_count": 14,
      "id": "f7155674",
      "metadata": {
        "id": "f7155674",
        "outputId": "6e837eff-02b2-4ab9-9ee7-a2d7f1e397e3",
        "colab": {
          "base_uri": "https://localhost:8080/"
        }
      },
      "outputs": [
        {
          "output_type": "stream",
          "name": "stdout",
          "text": [
            "✅ Files converted to PDBQT.\n"
          ]
        }
      ],
      "source": [
        "\n",
        "receptor_pdbqt = receptor_pdb.replace(\".pdb\", \".pdbqt\")\n",
        "ligand_pdbqt = ligand_pdb.replace(\".pdb\", \".pdbqt\")\n",
        "\n",
        "subprocess.run(f\"obabel {receptor_pdb} -O {receptor_pdbqt} --addhydrogens\", shell=True, check=True)\n",
        "subprocess.run(f\"obabel {ligand_pdb} -O {ligand_pdbqt} --addhydrogens\", shell=True, check=True)\n",
        "\n",
        "print(\"✅ Files converted to PDBQT.\")\n"
      ]
    },
    {
      "cell_type": "code",
      "execution_count": 22,
      "id": "7860be73",
      "metadata": {
        "id": "7860be73",
        "outputId": "beeba6b3-89e1-4575-f70d-fce1fa217769",
        "colab": {
          "base_uri": "https://localhost:8080/"
        }
      },
      "outputs": [
        {
          "output_type": "stream",
          "name": "stdout",
          "text": [
            "❌ Error running vina: Command '\n",
            "vina --receptor /content/nanoDocking_run/1A3N.pdbqt      --ligand /content/nanoDocking_run/Letrozole_3902.pdbqt      --center_x 0 --center_y 0 --center_z 0      --size_x 20 --size_y 20 --size_z 20      --out /content/nanoDocking_run/result.pdbqt      --log /content/nanoDocking_run/log.txt      --exhaustiveness 8\n",
            "' returned non-zero exit status 1.\n",
            "⚠️ log.txt not found — vina likely failed before writing log.\n",
            "-rw-r--r-- 1 root root 50M Jun  8 13:58 /content/nanoDocking_run/1A3N.pdbqt\n",
            "-rw-r--r-- 1 root root 2.5K Jun  8 13:58 /content/nanoDocking_run/Letrozole_3902.pdbqt\n",
            "AutoDock Vina v1.2.3\n",
            "REMARK  Name = /content/nanoDocking_run/1A3N.pdb\n",
            "REMARK  2024 active torsions:\n",
            "REMARK  status: ('A' for Active; 'I' for Inactive)\n",
            "REMARK    1  A    between atoms: CA_2  and  C_3\n",
            "REMARK    2  A    between atoms: CA_2  and  CB_5\n",
            "REMARK    3  A    between atoms: N_8  and  CA_9\n",
            "REMARK    4  A    between atoms: CA_9  and  C_10\n",
            "REMARK    5  A    between atoms: CA_9  and  CB_12\n",
            "REMARK    6  A    between atoms: CB_12  and  CG_13\n",
            "REMARK    7  A    between atoms: N_16  and  CA_17\n",
            "REMARK    8  A    between atoms: CA_17  and  C_18\n",
            "REMARK    9  A    between atoms: CA_17  and  CB_20\n",
            "REMARK   10  A    between atoms: CA_23  and  C_24\n",
            "REMARK   11  A    between atoms: N_29  and  CA_30\n",
            "REMARK   12  A    between atoms: CA_30  and  C_31\n",
            "REMARK   13  A    between atoms: N_34  and  CA_35\n",
            "REMARK   14  A    between atoms: CA_35  and  C_36\n",
            "REMARK   15  A    between atoms: CA_35  and  CB_38\n",
            "REMARK   16  A    between atoms: CB_38  and  CG_39\n",
            "REMARK   17  A    between atoms: N_42  and  CA_43\n",
            "REMARK  Name = /content/nanoDocking_run/Letrozole_3902.pdb\n",
            "REMARK  5 active torsions:\n",
            "REMARK  status: ('A' for Active; 'I' for Inactive)\n",
            "REMARK    1  A    between atoms: N_1  and  C_6\n",
            "REMARK    2  A    between atoms: C_6  and  C_7\n",
            "REMARK    3  A    between atoms: C_6  and  C_8\n",
            "REMARK    4  A    between atoms: C_18  and  C_21\n",
            "REMARK    5  A    between atoms: C_19  and  C_22\n",
            "REMARK                            x       y       z     vdW  Elec       q    Type\n",
            "REMARK                         _______ _______ _______ _____ _____    ______ ____\n",
            "ROOT\n",
            "ATOM      1  C   UNL     1       4.449   1.250   0.000  0.00  0.00    +0.000 C \n",
            "ENDROOT\n",
            "BRANCH   1   2\n",
            "ATOM      2  C   UNL     1       4.449   0.250   0.000  0.00  0.00    +0.000 A \n",
            "ATOM      3  C   UNL     1       5.315  -0.250   0.000  0.00  0.00    +0.000 A \n",
            "ATOM      4  C   UNL     1       3.583  -0.250   0.000  0.00  0.00    +0.000 A \n",
            "ATOM      5  C   UNL     1       5.315  -1.250   0.000  0.00  0.00    +0.000 A \n",
            "ATOM      6  C   UNL     1       3.583  -1.250   0.000  0.00  0.00    +0.000 A \n",
            "ATOM      7  C   UNL     1       4.449  -1.750   0.000  0.00  0.00    +0.000 A \n"
          ]
        }
      ],
      "source": [
        "try:\n",
        "    subprocess.run(vina_command, shell=True, check=True)\n",
        "    print(\"✅ Docking completed.\")\n",
        "except subprocess.CalledProcessError as e:\n",
        "    print(f\"❌ Error running vina: {e}\")\n",
        "    try:\n",
        "        with open(\"/content/nanoDocking_run/log.txt\", \"r\") as f:\n",
        "            print(f.read())\n",
        "    except FileNotFoundError:\n",
        "        print(\"⚠️ log.txt not found — vina likely failed before writing log.\")\n",
        "        !ls -lh /content/nanoDocking_run/1A3N.pdbqt\n",
        "!ls -lh /content/nanoDocking_run/Letrozole_3902.pdbqt\n",
        "!vina --version\n",
        "!head -n 20 /content/nanoDocking_run/1A3N.pdbqt\n",
        "!head -n 20 /content/nanoDocking_run/Letrozole_3902.pdbqt\n",
        "\n"
      ]
    },
    {
      "cell_type": "code",
      "execution_count": null,
      "id": "f499b20a",
      "metadata": {
        "id": "f499b20a"
      },
      "outputs": [],
      "source": [
        "\n",
        "with open(f\"{work_dir}/log.txt\", \"r\") as f:\n",
        "    log_text = f.read()\n",
        "\n",
        "affinities = re.findall(r\"\\d+\\s+(-\\d+\\.\\d+)\", log_text)\n",
        "print(f\"📈 Binding Affinities (kcal/mol): {affinities}\")\n"
      ]
    },
    {
      "cell_type": "code",
      "execution_count": null,
      "id": "974a0613",
      "metadata": {
        "id": "974a0613"
      },
      "outputs": [],
      "source": [
        "\n",
        "ligand_name_clean = ligand_name if ligand_name.strip() != \"\" else \"Unknown Ligand\"\n",
        "\n",
        "gaussian_text = \"%mem=200MW\\n\"\n",
        "gaussian_text += \"%nprocshared=4\\n\"\n",
        "gaussian_text += \"%chk=temp.chk\\n\"\n",
        "gaussian_text += \"# opt freq=raman b3lyp/6-311g(d,p) guess=save empiricaldispersion=gd3bj\\n\"\n",
        "gaussian_text += \"scf=xqc\\n\\n\"\n",
        "gaussian_text += f\"Receptor with Ligand: {ligand_name_clean}\\n\"\n",
        "\n",
        "gaussian_path = os.path.join(work_dir, \"gaussian_input.txt\")\n",
        "with open(gaussian_path, \"w\") as f:\n",
        "    f.write(gaussian_text)\n",
        "\n",
        "print(f\"✅ Gaussian Input generated: {gaussian_path}\")\n"
      ]
    }
  ],
  "metadata": {
    "colab": {
      "provenance": []
    },
    "language_info": {
      "name": "python"
    },
    "kernelspec": {
      "name": "python3",
      "display_name": "Python 3"
    }
  },
  "nbformat": 4,
  "nbformat_minor": 5
}