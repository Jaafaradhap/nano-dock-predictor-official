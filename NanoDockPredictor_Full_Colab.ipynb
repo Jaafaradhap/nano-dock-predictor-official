{
  "cells": [
    {
      "cell_type": "code",
      "source": [
        "# 🚀 STEP 1 — تثبيت AutoDock Vina + OpenBabel + Python2\n",
        "!apt-get install -y autodock-vina\n",
        "!apt-get install -y openbabel\n",
        "!apt-get install python2-minimal -y\n",
        "\n",
        "# 🚀 STEP 2 — تحميل prepare_receptor4.py\n",
        "!wget https://github.com/ForliLab/AutoDockTools4/raw/master/Utilities24/prepare_receptor4.py\n",
        "\n",
        "# 🚀 STEP 3 — تعليمات للمستخدم\n",
        "print(\"⛔ الآن من الشريط الجانبي Files → Upload\")\n",
        "print(\"✅ ارفع ملف البروتين: 1A3N.pdb\")\n",
        "print(\"✅ ارفع ملف Ligand: Conformer3D_COMPOUND_CID_3902.sdf\")\n",
        "print(\"❗ انتظر حتى ترفع الملفات يدوياً — ثم أكمل الخطوات القادمة.\")\n",
        "\n",
        "# 🚀 STEP 4 — تحضير Receptor\n",
        "# ⚠️ شغّل هذا بعد رفع الملفات\n",
        "!python2 prepare_receptor4.py -r /content/1A3N.pdb -o /content/1A3N_clean.pdbqt\n",
        "\n",
        "# 🚀 STEP 5 — تحويل Ligand SDF إلى PDB\n",
        "!obabel /content/Conformer3D_COMPOUND_CID_3902.sdf -O /content/Letrozole.pdb\n",
        "\n",
        "# 🚀 STEP 6 — تحضير Ligand PDB إلى PDBQT\n",
        "!obabel /content/Letrozole.pdb -O /content/Letrozole_clean.pdbqt\n",
        "\n",
        "# 🚀 STEP 7 — تشغيل Vina Docking\n",
        "vina_command = f'''\n",
        "vina --receptor /content/1A3N_clean.pdbqt \\\n",
        "     --ligand /content/Letrozole_clean.pdbqt \\\n",
        "     --center_x 0 --center_y 0 --center_z 0 \\\n",
        "     --size_x 20 --size_y 20 --size_z 20 \\\n",
        "     --out /content/result.pdbqt \\\n",
        "     --log /content/log.txt \\\n",
        "     --exhaustiveness 8\n",
        "'''\n",
        "\n",
        "import subprocess\n",
        "\n",
        "try:\n",
        "    subprocess.run(vina_command, shell=True, check=True)\n",
        "    print(\"✅ Docking completed.\")\n",
        "except subprocess.CalledProcessError as e:\n",
        "    print(f\"❌ Error running vina: {e}\")\n",
        "    try:\n",
        "        with open(\"/content/log.txt\", \"r\") as f:\n",
        "            print(f.read())\n",
        "    except FileNotFoundError:\n",
        "        print(\"⚠️ log.txt not found — vina likely failed before writing log.\")\n",
        "\n",
        "# 🚀 STEP 8 — قراءة نتائج الطاقة\n",
        "!cat /content/log.txt\n",
        "\n",
        "# 🚀 STEP 9 — تحميل ملف النتائج إلى جهازك\n",
        "from google.colab import files\n",
        "files.download('/content/result.pdbqt')\n"
      ],
      "metadata": {
        "id": "SI9e7jl27dvc",
        "outputId": "be9576c9-a1d8-42ed-d771-52e42ec4242a",
        "colab": {
          "base_uri": "https://localhost:8080/",
          "height": 890
        }
      },
      "id": "SI9e7jl27dvc",
      "execution_count": 37,
      "outputs": [
        {
          "output_type": "stream",
          "name": "stdout",
          "text": [
            "Reading package lists... Done\n",
            "Building dependency tree... Done\n",
            "Reading state information... Done\n",
            "autodock-vina is already the newest version (1.2.3-2).\n",
            "0 upgraded, 0 newly installed, 0 to remove and 35 not upgraded.\n",
            "Reading package lists... Done\n",
            "Building dependency tree... Done\n",
            "Reading state information... Done\n",
            "openbabel is already the newest version (3.1.1+dfsg-6ubuntu5).\n",
            "0 upgraded, 0 newly installed, 0 to remove and 35 not upgraded.\n",
            "Reading package lists... Done\n",
            "Building dependency tree... Done\n",
            "Reading state information... Done\n",
            "python2-minimal is already the newest version (2.7.18-3).\n",
            "0 upgraded, 0 newly installed, 0 to remove and 35 not upgraded.\n",
            "--2025-06-09 18:23:02--  https://github.com/ForliLab/AutoDockTools4/raw/master/Utilities24/prepare_receptor4.py\n",
            "Resolving github.com (github.com)... 140.82.114.4\n",
            "Connecting to github.com (github.com)|140.82.114.4|:443... connected.\n",
            "HTTP request sent, awaiting response... 404 Not Found\n",
            "2025-06-09 18:23:02 ERROR 404: Not Found.\n",
            "\n",
            "⛔ الآن من الشريط الجانبي Files → Upload\n",
            "✅ ارفع ملف البروتين: 1A3N.pdb\n",
            "✅ ارفع ملف Ligand: Conformer3D_COMPOUND_CID_3902.sdf\n",
            "❗ انتظر حتى ترفع الملفات يدوياً — ثم أكمل الخطوات القادمة.\n",
            "python2: can't open file 'prepare_receptor4.py': [Errno 2] No such file or directory\n",
            "1 molecule converted\n",
            "1 molecule converted\n",
            "❌ Error running vina: Command '\n",
            "vina --receptor /content/1A3N_clean.pdbqt      --ligand /content/Letrozole_clean.pdbqt      --center_x 0 --center_y 0 --center_z 0      --size_x 20 --size_y 20 --size_z 20      --out /content/result.pdbqt      --log /content/log.txt      --exhaustiveness 8\n",
            "' returned non-zero exit status 1.\n",
            "⚠️ log.txt not found — vina likely failed before writing log.\n",
            "cat: /content/log.txt: No such file or directory\n"
          ]
        },
        {
          "output_type": "error",
          "ename": "FileNotFoundError",
          "evalue": "Cannot find file: /content/result.pdbqt",
          "traceback": [
            "\u001b[0;31m---------------------------------------------------------------------------\u001b[0m",
            "\u001b[0;31mFileNotFoundError\u001b[0m                         Traceback (most recent call last)",
            "\u001b[0;32m<ipython-input-37-1ba1cdc47b22>\u001b[0m in \u001b[0;36m<cell line: 0>\u001b[0;34m()\u001b[0m\n\u001b[1;32m     52\u001b[0m \u001b[0;31m# 🚀 STEP 9 — تحميل ملف النتائج إلى جهازك\u001b[0m\u001b[0;34m\u001b[0m\u001b[0;34m\u001b[0m\u001b[0m\n\u001b[1;32m     53\u001b[0m \u001b[0;32mfrom\u001b[0m \u001b[0mgoogle\u001b[0m\u001b[0;34m.\u001b[0m\u001b[0mcolab\u001b[0m \u001b[0;32mimport\u001b[0m \u001b[0mfiles\u001b[0m\u001b[0;34m\u001b[0m\u001b[0;34m\u001b[0m\u001b[0m\n\u001b[0;32m---> 54\u001b[0;31m \u001b[0mfiles\u001b[0m\u001b[0;34m.\u001b[0m\u001b[0mdownload\u001b[0m\u001b[0;34m(\u001b[0m\u001b[0;34m'/content/result.pdbqt'\u001b[0m\u001b[0;34m)\u001b[0m\u001b[0;34m\u001b[0m\u001b[0;34m\u001b[0m\u001b[0m\n\u001b[0m",
            "\u001b[0;32m/usr/local/lib/python3.11/dist-packages/google/colab/files.py\u001b[0m in \u001b[0;36mdownload\u001b[0;34m(filename)\u001b[0m\n\u001b[1;32m    231\u001b[0m   \u001b[0;32mif\u001b[0m \u001b[0;32mnot\u001b[0m \u001b[0m_os\u001b[0m\u001b[0;34m.\u001b[0m\u001b[0mpath\u001b[0m\u001b[0;34m.\u001b[0m\u001b[0mexists\u001b[0m\u001b[0;34m(\u001b[0m\u001b[0mfilename\u001b[0m\u001b[0;34m)\u001b[0m\u001b[0;34m:\u001b[0m\u001b[0;34m\u001b[0m\u001b[0;34m\u001b[0m\u001b[0m\n\u001b[1;32m    232\u001b[0m     \u001b[0mmsg\u001b[0m \u001b[0;34m=\u001b[0m \u001b[0;34m'Cannot find file: {}'\u001b[0m\u001b[0;34m.\u001b[0m\u001b[0mformat\u001b[0m\u001b[0;34m(\u001b[0m\u001b[0mfilename\u001b[0m\u001b[0;34m)\u001b[0m\u001b[0;34m\u001b[0m\u001b[0;34m\u001b[0m\u001b[0m\n\u001b[0;32m--> 233\u001b[0;31m     \u001b[0;32mraise\u001b[0m \u001b[0mFileNotFoundError\u001b[0m\u001b[0;34m(\u001b[0m\u001b[0mmsg\u001b[0m\u001b[0;34m)\u001b[0m  \u001b[0;31m# pylint: disable=undefined-variable\u001b[0m\u001b[0;34m\u001b[0m\u001b[0;34m\u001b[0m\u001b[0m\n\u001b[0m\u001b[1;32m    234\u001b[0m \u001b[0;34m\u001b[0m\u001b[0m\n\u001b[1;32m    235\u001b[0m   \u001b[0mcomm_manager\u001b[0m \u001b[0;34m=\u001b[0m \u001b[0m_IPython\u001b[0m\u001b[0;34m.\u001b[0m\u001b[0mget_ipython\u001b[0m\u001b[0;34m(\u001b[0m\u001b[0;34m)\u001b[0m\u001b[0;34m.\u001b[0m\u001b[0mkernel\u001b[0m\u001b[0;34m.\u001b[0m\u001b[0mcomm_manager\u001b[0m\u001b[0;34m\u001b[0m\u001b[0;34m\u001b[0m\u001b[0m\n",
            "\u001b[0;31mFileNotFoundError\u001b[0m: Cannot find file: /content/result.pdbqt"
          ]
        }
      ]
    }
  ],
  "metadata": {
    "colab": {
      "provenance": []
    },
    "language_info": {
      "name": "python"
    },
    "kernelspec": {
      "name": "python3",
      "display_name": "Python 3"
    }
  },
  "nbformat": 4,
  "nbformat_minor": 5
}