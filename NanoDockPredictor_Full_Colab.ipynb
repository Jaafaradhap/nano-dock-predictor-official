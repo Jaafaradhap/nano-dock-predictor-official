{
 "cells": [
  {
   "cell_type": "markdown",
   "id": "e972719a",
   "metadata": {},
   "source": [
    "\n",
    "# 🧬 NanoDockPredictor - Full Version (Google Colab)\n",
    "### Created by Jaafar (2025)\n",
    "\n",
    "✅ Smart Docking of Proteins and Ligands  \n",
    "✅ AutoDock Vina + OpenBabel + Gaussian Input Generator\n",
    "\n",
    "---\n",
    "\n",
    "⚠️ Notes:\n",
    "\n",
    "- This notebook is the **full version** of NanoDockPredictor.\n",
    "- It runs fully in Google Colab (free).\n",
    "- No need to install anything on your local machine.\n",
    "\n",
    "---\n",
    "\n",
    "Let's start 🚀\n"
   ]
  },
  {
   "cell_type": "code",
   "execution_count": null,
   "id": "653bf614",
   "metadata": {},
   "outputs": [],
   "source": [
    "\n",
    "# ✅ Install AutoDock Vina and OpenBabel\n",
    "!apt-get install -y autodock-vina\n",
    "!apt-get install -y openbabel\n",
    "!pip install -q requests\n"
   ]
  },
  {
   "cell_type": "code",
   "execution_count": null,
   "id": "b346667f",
   "metadata": {},
   "outputs": [],
   "source": [
    "\n",
    "# ✅ Import libraries\n",
    "import requests\n",
    "import os\n",
    "import subprocess\n",
    "import re\n",
    "import shutil\n"
   ]
  },
  {
   "cell_type": "code",
   "execution_count": null,
   "id": "c0a99e57",
   "metadata": {},
   "outputs": [],
   "source": [
    "\n",
    "# ✅ Create work directory\n",
    "work_dir = \"/content/nanoDocking_run\"\n",
    "os.makedirs(work_dir, exist_ok=True)\n"
   ]
  },
  {
   "cell_type": "code",
   "execution_count": null,
   "id": "2df2f561",
   "metadata": {},
   "outputs": [],
   "source": [
    "\n",
    "# ✅ Download PDB and Ligand functions\n",
    "def download_pdb(pdb_id):\n",
    "    url = f\"https://files.rcsb.org/download/{pdb_id}.pdb\"\n",
    "    response = requests.get(url)\n",
    "    pdb_path = os.path.join(work_dir, f\"{pdb_id}.pdb\")\n",
    "    with open(pdb_path, \"w\") as f:\n",
    "        f.write(response.text)\n",
    "    return pdb_path\n",
    "\n",
    "def download_ligand(ligand_name):\n",
    "    cid_url = f\"https://pubchem.ncbi.nlm.nih.gov/rest/pug/compound/name/{ligand_name}/cids/TXT\"\n",
    "    cid_response = requests.get(cid_url)\n",
    "    cid = cid_response.text.strip()\n",
    "    sdf_url = f\"https://pubchem.ncbi.nlm.nih.gov/rest/pug/compound/cid/{cid}/SDF\"\n",
    "    sdf_response = requests.get(sdf_url)\n",
    "    sdf_path = os.path.join(work_dir, f\"{ligand_name}_{cid}.sdf\")\n",
    "    with open(sdf_path, \"w\") as f:\n",
    "        f.write(sdf_response.text)\n",
    "    pdb_path = sdf_path.replace(\".sdf\", \".pdb\")\n",
    "    subprocess.run(f\"obabel {sdf_path} -O {pdb_path} --addhydrogens\", shell=True, check=True)\n",
    "    return pdb_path\n"
   ]
  },
  {
   "cell_type": "code",
   "execution_count": null,
   "id": "615ba9d8",
   "metadata": {},
   "outputs": [],
   "source": [
    "\n",
    "# Example:\n",
    "pdb_id = \"1A3N\"  # change as needed\n",
    "ligand_name = \"Letrozole\"  # change as needed\n",
    "\n",
    "receptor_pdb = download_pdb(pdb_id)\n",
    "ligand_pdb = download_ligand(ligand_name)\n",
    "\n",
    "print(\"✅ Files downloaded.\")\n"
   ]
  },
  {
   "cell_type": "code",
   "execution_count": null,
   "id": "f7155674",
   "metadata": {},
   "outputs": [],
   "source": [
    "\n",
    "receptor_pdbqt = receptor_pdb.replace(\".pdb\", \".pdbqt\")\n",
    "ligand_pdbqt = ligand_pdb.replace(\".pdb\", \".pdbqt\")\n",
    "\n",
    "subprocess.run(f\"obabel {receptor_pdb} -O {receptor_pdbqt} --addhydrogens\", shell=True, check=True)\n",
    "subprocess.run(f\"obabel {ligand_pdb} -O {ligand_pdbqt} --addhydrogens\", shell=True, check=True)\n",
    "\n",
    "print(\"✅ Files converted to PDBQT.\")\n"
   ]
  },
  {
   "cell_type": "code",
   "execution_count": null,
   "id": "7860be73",
   "metadata": {},
   "outputs": [],
   "source": [
    "\n",
    "vina_command = f'''\n",
    "vina --receptor {receptor_pdbqt}      --ligand {ligand_pdbqt}      --center_x 0 --center_y 0 --center_z 0      --size_x 20 --size_y 20 --size_z 20      --out {work_dir}/result.pdbqt      --log {work_dir}/log.txt      --exhaustiveness 8\n",
    "'''\n",
    "\n",
    "subprocess.run(vina_command, shell=True, check=True)\n",
    "\n",
    "print(\"✅ Docking completed.\")\n"
   ]
  },
  {
   "cell_type": "code",
   "execution_count": null,
   "id": "f499b20a",
   "metadata": {},
   "outputs": [],
   "source": [
    "\n",
    "with open(f\"{work_dir}/log.txt\", \"r\") as f:\n",
    "    log_text = f.read()\n",
    "\n",
    "affinities = re.findall(r\"\\d+\\s+(-\\d+\\.\\d+)\", log_text)\n",
    "print(f\"📈 Binding Affinities (kcal/mol): {affinities}\")\n"
   ]
  },
  {
   "cell_type": "code",
   "execution_count": null,
   "id": "974a0613",
   "metadata": {},
   "outputs": [],
   "source": [
    "\n",
    "ligand_name_clean = ligand_name if ligand_name.strip() != \"\" else \"Unknown Ligand\"\n",
    "\n",
    "gaussian_text = \"%mem=200MW\\n\"\n",
    "gaussian_text += \"%nprocshared=4\\n\"\n",
    "gaussian_text += \"%chk=temp.chk\\n\"\n",
    "gaussian_text += \"# opt freq=raman b3lyp/6-311g(d,p) guess=save empiricaldispersion=gd3bj\\n\"\n",
    "gaussian_text += \"scf=xqc\\n\\n\"\n",
    "gaussian_text += f\"Receptor with Ligand: {ligand_name_clean}\\n\"\n",
    "\n",
    "gaussian_path = os.path.join(work_dir, \"gaussian_input.txt\")\n",
    "with open(gaussian_path, \"w\") as f:\n",
    "    f.write(gaussian_text)\n",
    "\n",
    "print(f\"✅ Gaussian Input generated: {gaussian_path}\")\n"
   ]
  }
 ],
 "metadata": {},
 "nbformat": 4,
 "nbformat_minor": 5
}
